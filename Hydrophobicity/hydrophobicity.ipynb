{
 "cells": [
  {
   "cell_type": "code",
   "execution_count": 1,
   "metadata": {
    "collapsed": true
   },
   "outputs": [],
   "source": [
    "import numpy as np"
   ]
  },
  {
   "cell_type": "code",
   "execution_count": 2,
   "metadata": {
    "collapsed": true
   },
   "outputs": [],
   "source": [
    "aa_units = np.array([[1, 0, 1, 0, 1, 1, 0, 1, 0, 0, 0, 0, 0, 0, 0, 0, 0, 0, 0, 0],\n",
    "                     [2, 0, 1, 2, 0, 2, 0, 1, 1, 0, 0, 2, 0, 0, 0, 0, 0, 0, 0, 0],\n",
    "                     [1, 0, 1, 1, 0, 2, 0, 2, 0, 0, 0, 0, 1, 0, 0, 0, 0, 0, 0, 0],\n",
    "                     [1, 0, 1, 0, 0, 2, 0, 1, 0, 1, 0, 0, 0, 2, 0, 0, 0, 0, 0, 0],\n",
    "                     [1, 0, 1, 1, 0, 1, 0, 1, 0, 0, 0, 0, 0, 0, 1, 0, 0, 0, 0, 0],\n",
    "                     [1, 0, 1, 2, 0, 2, 0, 2, 0, 0, 0, 0, 1, 0, 0, 0, 0, 0, 0, 0],\n",
    "                     [1, 0, 1, 1, 0, 2, 0, 1, 0, 1, 0, 0, 0, 2, 0, 0, 0, 0, 0, 0],\n",
    "                     [1, 0, 0, 1, 0, 1, 0, 1, 0, 0, 0, 0, 0, 0, 0, 0, 0, 0, 0, 0],\n",
    "                     [1, 0, 1, 1, 0, 1, 1, 1, 0, 0, 2, 0, 0, 0, 0, 0, 1, 0, 0, 1],\n",
    "                     [1, 0, 2, 1, 2, 1, 0, 1, 0, 0, 0, 0, 0, 0, 0, 0, 0, 0, 0, 0],\n",
    "                     [1, 0, 2, 1, 2, 1, 0, 1, 0, 0, 0, 0, 0, 0, 0, 0, 0, 0, 0, 0],\n",
    "                     [1, 0, 1, 3, 0, 1, 0, 1, 1, 0, 0, 0, 0, 0, 0, 0, 0, 0, 1, 0],\n",
    "                     [1, 0, 1, 2, 1, 1, 0, 1, 0, 0, 0, 0, 0, 0, 1, 0, 0, 0, 0, 0],\n",
    "                     [1, 0, 1, 1, 0, 1, 1, 1, 0, 0, 5, 0, 0, 0, 0, 0, 0, 0, 0, 0],\n",
    "                     [0, 1, 1, 3, 0, 1, 0, 1, 0, 0, 0, 0, 0, 0, 0, 0, 0, 0, 0, 0],\n",
    "                     [1, 0, 1, 0, 0, 1, 0, 1, 1, 0, 0, 0, 0, 0, 0, 1, 0, 0, 0, 0],\n",
    "                     [1, 0, 1, 0, 1, 1, 0, 1, 0, 0, 0, 0, 0, 0, 0, 1, 0, 1, 0, 0],\n",
    "                     [1, 0, 1, 1, 0, 1, 3, 1, 0, 0, 5, 0, 0, 0, 0, 0, 1, 0, 0, 0],\n",
    "                     [1, 0, 1, 1, 0, 1, 2, 1, 0, 0, 4, 0, 0, 0, 0, 1, 0, 0, 0, 0],\n",
    "                     [1, 0, 2, 0, 2, 1, 0, 1, 0, 0, 0, 0, 0, 0, 0, 0, 0, 0, 0, 0]])\n",
    "\n",
    "scores = np.array([-0.29, -2.71, -1.18, -1.02, 0, -0.9, -0.34, -0.94, 0.24, -0.12,\n",
    "                   -2.05, -0.24, 0, -0.9, -0.75, -0.71, -0.59, -1.02, 0.09, 0])"
   ]
  },
  {
   "cell_type": "code",
   "execution_count": 6,
   "metadata": {},
   "outputs": [],
   "source": [
    "A = np.append(aa_units, scores.reshape(-1,1), axis=1)"
   ]
  },
  {
   "cell_type": "code",
   "execution_count": 9,
   "metadata": {},
   "outputs": [],
   "source": [
    "from scipy import linalg"
   ]
  },
  {
   "cell_type": "code",
   "execution_count": 22,
   "metadata": {},
   "outputs": [
    {
     "name": "stderr",
     "output_type": "stream",
     "text": [
      "/home/gil/anaconda3/lib/python3.6/site-packages/scipy/linalg/decomp_lu.py:71: RuntimeWarning: Diagonal number 13 is exactly zero. Singular matrix.\n",
      "  RuntimeWarning)\n"
     ]
    },
    {
     "data": {
      "text/plain": [
       "array([             nan,              nan,              nan,\n",
       "                    nan,              nan,              nan,\n",
       "                    nan,              nan,              nan,\n",
       "                    nan,              nan,              nan,\n",
       "                    nan,             -inf,  -7.30609791e+16,\n",
       "        -9.55497250e+14,   2.27611643e+16,   9.55497250e+14,\n",
       "        -9.55497250e+14,  -5.97694025e+16])"
      ]
     },
     "execution_count": 22,
     "metadata": {},
     "output_type": "execute_result"
    }
   ],
   "source": [
    "linalg.lu_solve(linalg.lu_factor(aa_units), scores)"
   ]
  },
  {
   "cell_type": "code",
   "execution_count": 26,
   "metadata": {},
   "outputs": [
    {
     "data": {
      "text/plain": [
       "array([-0.5405083 ,  0.3034917 , -0.242     , -0.266     ,  0.266     ,\n",
       "       -0.01560409,  0.32755135,  0.0021124 , -0.54333838,  0.05292082,\n",
       "       -0.03311027, -0.14127461,  0.1684917 ,  0.10584164,  1.062     ,\n",
       "        0.62933838, -0.7751027 , -0.68933838,  1.89733838,  1.81577189])"
      ]
     },
     "execution_count": 26,
     "metadata": {},
     "output_type": "execute_result"
    }
   ],
   "source": [
    "np.linalg.lstsq(aa_units, scores)[0]"
   ]
  },
  {
   "cell_type": "code",
   "execution_count": null,
   "metadata": {
    "collapsed": true
   },
   "outputs": [],
   "source": []
  }
 ],
 "metadata": {
  "kernelspec": {
   "display_name": "Python 3",
   "language": "python",
   "name": "python3"
  },
  "language_info": {
   "codemirror_mode": {
    "name": "ipython",
    "version": 3
   },
   "file_extension": ".py",
   "mimetype": "text/x-python",
   "name": "python",
   "nbconvert_exporter": "python",
   "pygments_lexer": "ipython3",
   "version": "3.6.3"
  }
 },
 "nbformat": 4,
 "nbformat_minor": 2
}
