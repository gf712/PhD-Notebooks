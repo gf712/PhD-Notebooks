{
 "cells": [
  {
   "cell_type": "code",
   "execution_count": 1,
   "metadata": {
    "collapsed": true
   },
   "outputs": [],
   "source": [
    "import mdtraj as md\n",
    "import glob as glob\n",
    "from scipy import spatial\n",
    "from collections import defaultdict\n",
    "from tqdm import tqdm_notebook\n",
    "import numpy as np\n",
    "import os"
   ]
  },
  {
   "cell_type": "code",
   "execution_count": null,
   "metadata": {
    "collapsed": true
   },
   "outputs": [],
   "source": [
    "def clusterer(files, threshold=0.5, interchain=True, intraresidue=False, return_type=0, debug=True):\n",
    "    \n",
    "    \"\"\"\n",
    "    Function to calculate the number of contacts each residue has with neighbouring residues\n",
    "    \n",
    "    v0.1: First version, only has one parameter, the threshold setting\n",
    "    v0.2: Vectorised distance calculation with pyml calculate_distance \n",
    "          (~100 times speed increase in distance calculation)\n",
    "    v0.3: Fully vectorised distance calculation with scipy (~100x speed increase overall)\n",
    "    v0.4: Added inter/intra chain option, inter/intra residue and return value type \n",
    "          (residue label or position or both)\n",
    "    \n",
    "    :type directory: list\n",
    "    :type threshold: float\n",
    "    :type interchain: bool\n",
    "    :type intraresidue: bool\n",
    "    :type return_type: int\n",
    "    :type debug: bool\n",
    "    \n",
    "    :param directory: files to run calculation\n",
    "    :param threshold: threshold in nm in contact definition\n",
    "    :param interchain: whether to look at interchain contacts\n",
    "    :param intraresidue: whether to look for interactions within the same residue\n",
    "    :param return_type: 0 returns label and position, 1 returns only residue label and 2 returns only position\n",
    "    :param debug: switch on debug mode\n",
    "    \n",
    "    :rtype: dict\n",
    "    :return: a dict with dictionaries with the contacts for each each residue  \n",
    "    \n",
    "    Pseudocode:\n",
    "    ----------\n",
    "        1. for each file in directory:\n",
    "            a. Read PDB to extract residue names\n",
    "            b. Parse file with mdtraj\n",
    "            c. initialise contacts dict\n",
    "            d. Calculate dense matrix with euclidean distances and then convert to squareform\n",
    "            f. for each position below threshold:\n",
    "                i. Find out position of corresponding atom\n",
    "               ii. store appropriate data\n",
    "        2. Return dict (with key corresponding to file) with contacts of each file\n",
    "    \"\"\"\n",
    "        \n",
    "    result = dict()\n",
    "    \n",
    "    for file in tqdm_notebook(files):\n",
    "        \n",
    "        file_name = os.path.split(file)[-1].split('.')[0] # get file basename\n",
    "                \n",
    "        seq=list()\n",
    "\n",
    "        atom_map = dict()\n",
    "\n",
    "        with open(file, 'r') as f:\n",
    "            file_length = 0\n",
    "            i=0\n",
    "            for line in f.readlines():\n",
    "\n",
    "                line_el = line.split()\n",
    "\n",
    "\n",
    "                if len(line_el) < 6:\n",
    "                    continue\n",
    "\n",
    "                try:\n",
    "                    if line_el[2] not in ['N', 'O', 'CA', 'C']:\n",
    "                        file_length += 1\n",
    "                        atom_map[i] = (line_el[4], line_el[5], line_el[3])\n",
    "                        i+=1\n",
    "\n",
    "                    if (line_el[4], line_el[5]) not in seq:\n",
    "                        seq.append((line_el[4], line_el[5]))\n",
    "                except:\n",
    "                    raise ValueError(line)\n",
    "\n",
    "        result_i = dict()\n",
    "\n",
    "        model = md.load_pdb(file)\n",
    "\n",
    "        model = model.atom_slice(model.top.select('all and sidechain'))\n",
    "\n",
    "        atoms = model.n_atoms\n",
    "\n",
    "        contacts = defaultdict(set)\n",
    "\n",
    "        dists = spatial.distance.pdist(model.xyz.squeeze(0))\n",
    "\n",
    "        dist_threshold = np.where(spatial.distance.squareform(dists) < threshold)\n",
    "\n",
    "        for atom1, atom2 in zip(dist_threshold[0], dist_threshold[1]):\n",
    "\n",
    "            position1 = atom_map[atom1][0]+atom_map[atom1][1]\n",
    "            position2 = atom_map[atom2][0]+atom_map[atom2][1]\n",
    "            \n",
    "            if not interchain and position1[0] != position2[0]:\n",
    "                # if atoms are in different chains skip\n",
    "                continue\n",
    "                \n",
    "            if not intraresidue and position1 == position2:\n",
    "                # skip if atoms are in same residue\n",
    "                continue\n",
    "                \n",
    "            if not isinstance(position1, str) or not isinstance(position2, str):\n",
    "                continue\n",
    "\n",
    "            if return_type == 0:\n",
    "                contacts[position1].add((position2, atom_map[atom2][2]))\n",
    "            elif return_type == 1:\n",
    "                contacts[position1].add(atom_map[atom2][2])\n",
    "            elif return_type == 2:\n",
    "                contacts[position1].add(position2)\n",
    "            else:\n",
    "                raise ValueError(\"Unknown return type!\")\n",
    "                \n",
    "        result[file_name] = contacts\n",
    "                \n",
    "    return result"
   ]
  },
  {
   "cell_type": "code",
   "execution_count": null,
   "metadata": {},
   "outputs": [
    {
     "data": {
      "application/vnd.jupyter.widget-view+json": {
       "model_id": "d896357c779f4f3fb0ab6476557a8ef9",
       "version_major": 2,
       "version_minor": 0
      },
      "text/plain": [
       "A Jupyter Widget"
      ]
     },
     "metadata": {},
     "output_type": "display_data"
    }
   ],
   "source": [
    "files = glob.glob('./models/*pdb')\n",
    "result = clusterer(files, 0.5, debug=False)"
   ]
  },
  {
   "cell_type": "code",
   "execution_count": null,
   "metadata": {},
   "outputs": [],
   "source": [
    "[x for x in result['P1']]"
   ]
  },
  {
   "cell_type": "code",
   "execution_count": null,
   "metadata": {
    "collapsed": true
   },
   "outputs": [],
   "source": [
    "aa_order = ['A', 'C', 'D', 'E', 'F', 'G', 'H', 'I', 'K', 'L', 'M', 'N', 'P', 'Q', 'R', 'S', 'T', 'V', 'W', 'Y']"
   ]
  },
  {
   "cell_type": "code",
   "execution_count": null,
   "metadata": {
    "collapsed": true
   },
   "outputs": [],
   "source": [
    "three_letter ={'V':'VAL', 'I':'ILE', 'L':'LEU', 'E':'GLU', 'Q':'GLN',\n",
    "'D':'ASP', 'N':'ASN', 'H':'HIS', 'W':'TRP', 'F':'PHE', 'Y':'TYR',\n",
    "'R':'ARG', 'K':'LYS', 'S':'SER', 'T':'THR', 'M':'MET', 'A':'ALA',\n",
    "'G':'GLY', 'P':'PRO', 'C':'CYS'}"
   ]
  },
  {
   "cell_type": "code",
   "execution_count": null,
   "metadata": {},
   "outputs": [],
   "source": [
    "def vector_representation(data):\n",
    "    \"\"\"\n",
    "    Function to represent cluster data in vector form\n",
    "    \n",
    "    :type data: dict\n",
    "    \n",
    "    :param data: data from clusterer\n",
    "    \n",
    "    :rtype: dict\n",
    "    :return: returns dict with same keys as data containing a dict \n",
    "             with the vector for each position\n",
    "             \n",
    "    Explanation:\n",
    "    ------------\n",
    "    \n",
    "    Each vector has the following order:\n",
    "    \n",
    "    [A, C, D, E, F, G, H, I, K, L, M, N, P, Q, R, S, T, V, W, Y]\n",
    "    \n",
    "    Each position either takes up the value of 0 (no contact) or 1 (contact)\n",
    "    \n",
    "    \"\"\"\n",
    "    \n",
    "    result = dict()\n",
    "    \n",
    "    for key, value in tqdm_notebook(data.items()):\n",
    "        \n",
    "        file_result = dict()\n",
    "        \n",
    "        for pos, contact in value.items():\n",
    "            \n",
    "            res_list = [x[1] for x in contact] \n",
    "            file_result[pos] = [1 if three_letter[x] in res_list else 0 for x in aa_order]\n",
    "            \n",
    "        result[key] = file_result\n",
    "                \n",
    "    return result"
   ]
  },
  {
   "cell_type": "code",
   "execution_count": null,
   "metadata": {},
   "outputs": [],
   "source": [
    "vectors = vector_representation(result)"
   ]
  },
  {
   "cell_type": "code",
   "execution_count": null,
   "metadata": {},
   "outputs": [],
   "source": [
    "vectors['P1']"
   ]
  },
  {
   "cell_type": "code",
   "execution_count": null,
   "metadata": {},
   "outputs": [],
   "source": [
    "h1_vectors = []\n",
    "h1_labels = []\n",
    "for file, data in vectors.items():\n",
    "    if 'H1' in data:\n",
    "        h1_vectors.append(data['H1'])\n",
    "        h1_labels.append(file)"
   ]
  },
  {
   "cell_type": "code",
   "execution_count": null,
   "metadata": {},
   "outputs": [],
   "source": [
    "spatial.distance.squareform(spatial.distance.pdist(h1_vectors, metric='cosine'))"
   ]
  },
  {
   "cell_type": "code",
   "execution_count": null,
   "metadata": {
    "collapsed": true
   },
   "outputs": [],
   "source": [
    "from scipy.cluster.hierarchy import dendrogram, linkage"
   ]
  },
  {
   "cell_type": "code",
   "execution_count": null,
   "metadata": {},
   "outputs": [],
   "source": [
    "clustered_data = linkage(y=spatial.distance.pdist(h1_vectors, metric='cosine'))"
   ]
  },
  {
   "cell_type": "code",
   "execution_count": null,
   "metadata": {
    "collapsed": true
   },
   "outputs": [],
   "source": [
    "from matplotlib import pyplot as plt\n",
    "%matplotlib inline"
   ]
  },
  {
   "cell_type": "code",
   "execution_count": null,
   "metadata": {},
   "outputs": [],
   "source": [
    "f, ax = plt.subplots(1, 1, figsize=(20,10))\n",
    "dendrogram(clustered_data, labels=h1_labels)\n",
    "plt.show()"
   ]
  },
  {
   "cell_type": "code",
   "execution_count": null,
   "metadata": {
    "collapsed": true
   },
   "outputs": [],
   "source": []
  }
 ],
 "metadata": {
  "kernelspec": {
   "display_name": "Python 3",
   "language": "python",
   "name": "python3"
  },
  "language_info": {
   "codemirror_mode": {
    "name": "ipython",
    "version": 3
   },
   "file_extension": ".py",
   "mimetype": "text/x-python",
   "name": "python",
   "nbconvert_exporter": "python",
   "pygments_lexer": "ipython3",
   "version": "3.6.2"
  }
 },
 "nbformat": 4,
 "nbformat_minor": 2
}
