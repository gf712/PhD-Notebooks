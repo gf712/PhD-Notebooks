{
 "cells": [
  {
   "cell_type": "markdown",
   "metadata": {},
   "source": [
    "<h1><center>PYTHON SPLAT 2</center></h1>\n",
    "\n",
    "<h2><center>BIOC3301</center></h2> "
   ]
  },
  {
   "cell_type": "markdown",
   "metadata": {},
   "source": [
    "# Download dataset"
   ]
  },
  {
   "cell_type": "code",
   "execution_count": 1,
   "metadata": {},
   "outputs": [
    {
     "name": "stdout",
     "output_type": "stream",
     "text": [
      "--2017-12-16 10:54:06--  ftp://ftp.1000genomes.ebi.ac.uk/vol1/ftp/phase3/data/NA18489/sequence_read/SRR003265.filt.fastq.gz\n",
      "           => ‘SRR003265.filt.fastq.gz’\n",
      "Resolving ftp.1000genomes.ebi.ac.uk (ftp.1000genomes.ebi.ac.uk)... 193.62.192.8\n",
      "Connecting to ftp.1000genomes.ebi.ac.uk (ftp.1000genomes.ebi.ac.uk)|193.62.192.8|:21... connected.\n",
      "Logging in as anonymous ... Logged in!\n",
      "==> SYST ... done.    ==> PWD ... done.\n",
      "==> TYPE I ... done.  ==> CWD (1) /vol1/ftp/phase3/data/NA18489/sequence_read ... done.\n",
      "==> SIZE SRR003265.filt.fastq.gz ... 28919712\n",
      "==> PASV ... done.    ==> RETR SRR003265.filt.fastq.gz ... done.\n",
      "Length: 28919712 (28M) (unauthoritative)\n",
      "\n",
      "SRR003265.filt.fast 100%[===================>]  27.58M  3.69MB/s    in 7.7s    \n",
      "\n",
      "2017-12-16 10:54:14 (3.60 MB/s) - ‘SRR003265.filt.fastq.gz’ saved [28919712]\n",
      "\n"
     ]
    }
   ],
   "source": [
    "!wget ftp://ftp.1000genomes.ebi.ac.uk/vol1/ftp/phase3/data/NA18489/sequence_read/SRR003265.filt.fastq.gz "
   ]
  },
  {
   "cell_type": "code",
   "execution_count": 2,
   "metadata": {},
   "outputs": [],
   "source": [
    "!zcat SRR003265.filt.fastq.gz > SRR003265.fastq"
   ]
  },
  {
   "cell_type": "code",
   "execution_count": 3,
   "metadata": {},
   "outputs": [
    {
     "name": "stdout",
     "output_type": "stream",
     "text": [
      "@SRR003265.31 3042NAAXX:3:1:1252:1819 length=51\r\n",
      "GGGAAAAGAAAAACAAACAAACAAAAACAAAACACAGAAACAAAAAAACCA\r\n",
      "+\r\n",
      "IIIIIIIIIIIIIIIIIII?8IAD>I1IIAD@IIH7I95=@-@+7=.;588\r\n",
      "@SRR003265.216 3042NAAXX:3:1:433:1251 length=51\r\n",
      "GAAATTTGTTTGCAGACCTCTGTGCAAACAAATTTCAGATTGGAAGAGCGT\r\n",
      "+\r\n",
      "IIIIIIIIIIIIIIIIIIIIIIIIIIIIIIIIIIIFIIIIIIIIC;6I?II\r\n",
      "@SRR003265.404 3042NAAXX:3:1:1902:1672 length=51\r\n",
      "GATAATGATCTGAAGTTTTATTTTTTCACCAGGTCTCTGCCACATTTTTGT\r\n"
     ]
    }
   ],
   "source": [
    "!head SRR003265.fastq"
   ]
  },
  {
   "cell_type": "markdown",
   "metadata": {},
   "source": [
    "# Data analysis with Biopython "
   ]
  },
  {
   "cell_type": "markdown",
   "metadata": {},
   "source": [
    "## Simple quality filtering for FASTQ files "
   ]
  },
  {
   "cell_type": "code",
   "execution_count": 4,
   "metadata": {},
   "outputs": [],
   "source": [
    "from Bio import SeqIO \n",
    "count = sum(1 for seq in SeqIO.parse(\"SRR003265.fastq\", \"fastq\"))"
   ]
  },
  {
   "cell_type": "code",
   "execution_count": 5,
   "metadata": {},
   "outputs": [
    {
     "name": "stdout",
     "output_type": "stream",
     "text": [
      "508226\n"
     ]
    }
   ],
   "source": [
    "print(count)"
   ]
  },
  {
   "cell_type": "markdown",
   "metadata": {},
   "source": [
    "### Filtering for a minimum PHRED quality of 20 "
   ]
  },
  {
   "cell_type": "code",
   "execution_count": 6,
   "metadata": {},
   "outputs": [
    {
     "name": "stdout",
     "output_type": "stream",
     "text": [
      "Saved 5102 reads\n"
     ]
    }
   ],
   "source": [
    "good_reads = (rec for rec in SeqIO.parse(\"SRR003265.fastq\", \"fastq\")\n",
    "              if min(rec.letter_annotations[\"phred_quality\"]) >= 20) \n",
    "count = SeqIO.write(good_reads, \"good_quality.fastq\", \"fastq\") \n",
    "print(\"Saved %i reads\" % count) "
   ]
  },
  {
   "cell_type": "code",
   "execution_count": 7,
   "metadata": {},
   "outputs": [
    {
     "name": "stdout",
     "output_type": "stream",
     "text": [
      "Nucleotide |   %   |  Count\n",
      "----------------------------\n",
      "    G      | 20.68 | 5359334\n",
      "    A      | 28.60 | 7411965\n",
      "    C      | 21.00 | 5444053\n",
      "    T      | 29.58 | 7666885\n",
      "    N      |  0.14 |   37289\n"
     ]
    }
   ],
   "source": [
    "from collections import defaultdict \n",
    "\n",
    "recs = SeqIO.parse('SRR003265.fastq', \"fastq\")\n",
    "\n",
    "cnt = defaultdict(int)\n",
    "for rec in recs: \n",
    "    for letter in rec.seq: \n",
    "        cnt[letter] += 1 \n",
    "        tot = sum(cnt.values()) \n",
    "        \n",
    "print('Nucleotide |   %   |  Count')\n",
    "print('-'*28)\n",
    "for letter, cnt_value in cnt.items(): \n",
    "    print('{:>5}      | {:>5.2f} | {:>7}'.format(letter, 100. * cnt_value / tot, cnt_value)) "
   ]
  },
  {
   "cell_type": "markdown",
   "metadata": {},
   "source": [
    "## Plot the distribution of nucleotides (Ns) according to read position "
   ]
  },
  {
   "cell_type": "code",
   "execution_count": 8,
   "metadata": {},
   "outputs": [],
   "source": [
    "import seaborn as sns \n",
    "import matplotlib\n",
    "import matplotlib.pyplot as plt \n",
    "%matplotlib inline\n",
    "\n",
    "plt.style.use(['seaborn-white', 'seaborn-paper'])\n",
    "matplotlib.rc(\"font\", family=\"Times New Roman\")"
   ]
  },
  {
   "cell_type": "code",
   "execution_count": 9,
   "metadata": {},
   "outputs": [],
   "source": [
    "n_cnt = defaultdict(int) \n",
    "recs = SeqIO.parse('SRR003265.fastq', \"fastq\")\n",
    "\n",
    "for rec in recs: \n",
    "    for i, letter in enumerate(rec.seq): \n",
    "        pos = i + 1 \n",
    "        if letter == 'N':\n",
    "            n_cnt[pos] += 1 \n",
    "            \n",
    "seq_len = max(n_cnt.keys()) \n",
    "positions = range(1, seq_len +1) "
   ]
  },
  {
   "cell_type": "code",
   "execution_count": 10,
   "metadata": {},
   "outputs": [
    {
     "data": {
      "image/png": "[encoded data removed]",
      "text/plain": [
       "<matplotlib.figure.Figure at 0x7f1d4c614240>"
      ]
     },
     "metadata": {},
     "output_type": "display_data"
    }
   ],
   "source": [
    "with sns.plotting_context(rc={\"axes.titlesize\":25,\"axes.labelsize\":20, 'xtick.labelsize': 15,\n",
    "                              'ytick.labelsize': 15, 'legend.fontsize': 15}):\n",
    "    fig, ax = plt.subplots(figsize=(15,8)) \n",
    "    ax.bar(positions, [n_cnt[x] for x in positions]) \n",
    "    ax.set_title('Count of nucleotide N as a function of sequence position')\n",
    "    ax.set_ylabel('Count')\n",
    "    ax.set_xlabel('Sequence position')\n",
    "    ax.grid(axis='y')\n",
    "    ax.set_xlim(1, seq_len+1)"
   ]
  },
  {
   "cell_type": "markdown",
   "metadata": {},
   "source": [
    "## First look at the distribution of nucleotide reads "
   ]
  },
  {
   "cell_type": "code",
   "execution_count": 11,
   "metadata": {},
   "outputs": [
    {
     "name": "stdout",
     "output_type": "stream",
     "text": [
      "Qual |   %  |  Count\n",
      "---------------------\n",
      "40   | 22.76| 3007221\n",
      "16   |  2.05|  270431\n",
      "32   |  1.03|  136763\n",
      "35   |  0.91|  120704\n",
      "31   |  1.08|  142464\n",
      "39   |  0.78|  102568\n",
      "22   |  1.59|  209905\n",
      "24   |  1.46|  193259\n",
      "20   |  1.73|  228923\n",
      "28   |  1.23|  162226\n",
      "12   |  2.35|  309918\n",
      "10   |  4.95|  654154\n",
      "13   |  2.28|  301033\n",
      "26   |  1.33|  176263\n",
      "23   |  1.52|  201164\n",
      "37   |  0.84|  111179\n",
      "34   |  0.95|  125624\n",
      "21   |  1.66|  219602\n",
      "30   |  1.13|  149449\n",
      "33   |  0.99|  131291\n",
      "25   |  1.40|  184846\n",
      "17   |  1.97|  259779\n",
      "38   |  0.80|  106290\n",
      "4    |  4.77|  630923\n",
      "36   |  0.88|  115701\n",
      "18   |  1.88|  248982\n",
      "11   |  2.41|  318303\n",
      "19   |  1.81|  239621\n",
      "5    |  4.88|  645266\n",
      "9    |  2.51|  332259\n",
      "3    |  4.04|  533458\n",
      "27   |  1.28|  168902\n",
      "8    |  2.53|  334410\n",
      "29   |  1.17|  154892\n",
      "15   |  2.12|  280719\n",
      "7    |  2.51|  331743\n",
      "2    |  3.77|  498679\n",
      "14   |  2.20|  291341\n",
      "6    |  2.50|  330834\n",
      "1    |  1.52|  200558\n",
      "0    |  0.40|   52229\n"
     ]
    }
   ],
   "source": [
    "cnt_qual = defaultdict(int) \n",
    "recs = SeqIO.parse('SRR003265.fastq', \"fastq\")\n",
    "\n",
    "for rec in recs: \n",
    "    for i, qual in enumerate( rec.letter_annotations['phred_quality']):\n",
    "        if i < 25:\n",
    "            continue \n",
    "        cnt_qual[qual] += 1 \n",
    "        tot = sum(cnt_qual.values()) \n",
    "\n",
    "print('Qual |   %  |  Count')\n",
    "print('-'*21)\n",
    "for qual, cnt in cnt_qual.items():\n",
    "    print('{:<2}   | {:>5.2f}| {:>7}'.format(qual, 100. * cnt / tot, cnt)) "
   ]
  },
  {
   "cell_type": "markdown",
   "metadata": {},
   "source": [
    "## Analyse the distribution of PHRED quality scores in FASTQ sequences "
   ]
  },
  {
   "cell_type": "code",
   "execution_count": 12,
   "metadata": {
    "scrolled": true
   },
   "outputs": [],
   "source": [
    "recs = SeqIO.parse('SRR003265.fastq', 'fastq') \n",
    "\n",
    "qual_pos = defaultdict(list) \n",
    "\n",
    "for rec in recs: \n",
    "    for i, qual in enumerate(rec.letter_annotations['phred_quality']): \n",
    "        if i < 25 or qual == 40: \n",
    "            continue \n",
    "        pos = i + 1 \n",
    "        qual_pos[pos].append(qual) \n",
    "        \n",
    "vps = [] \n",
    "poses = qual_pos.keys() \n",
    "poses = sorted(poses)\n",
    "\n",
    "for pos in poses:\n",
    "    vps.append(qual_pos[pos]) "
   ]
  },
  {
   "cell_type": "code",
   "execution_count": 13,
   "metadata": {},
   "outputs": [
    {
     "data": {
      "image/png": "[encoded data removed]",
      "text/plain": [
       "<matplotlib.figure.Figure at 0x7f1d6dc2f2e8>"
      ]
     },
     "metadata": {},
     "output_type": "display_data"
    }
   ],
   "source": [
    "with sns.plotting_context(rc={\"axes.titlesize\":25,\"axes.labelsize\":20, 'xtick.labelsize': 15,\n",
    "                              'ytick.labelsize': 15, 'legend.fontsize': 15}):\n",
    "    fig, ax = plt.subplots(figsize=(15,10))\n",
    "    sns.boxplot(data=vps, ax=ax) \n",
    "    ax.set_xticklabels([str(x) for x in range (26, max(qual_pos.keys()) + 1)]) \n",
    "    ax.set_title('PHRED quality as a function of sequence position')\n",
    "    ax.set_ylabel('PHRED quality')\n",
    "    ax.set_xlabel('Sequence position')\n",
    "    ax.grid(axis='y')\n",
    "    ax.margins(0.1)"
   ]
  },
  {
   "cell_type": "code",
   "execution_count": null,
   "metadata": {},
   "outputs": [],
   "source": []
  }
 ],
 "metadata": {
  "kernelspec": {
   "display_name": "Python 3",
   "language": "python",
   "name": "python3"
  },
  "language_info": {
   "codemirror_mode": {
    "name": "ipython",
    "version": 3
   },
   "file_extension": ".py",
   "mimetype": "text/x-python",
   "name": "python",
   "nbconvert_exporter": "python",
   "pygments_lexer": "ipython3",
   "version": "3.6.3"
  }
 },
 "nbformat": 4,
 "nbformat_minor": 2
}
